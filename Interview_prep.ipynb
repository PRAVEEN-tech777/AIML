{
  "nbformat": 4,
  "nbformat_minor": 0,
  "metadata": {
    "colab": {
      "provenance": [],
      "collapsed_sections": [
        "4DVBgeIb1Szq",
        "z3hGeRV4MRnL",
        "2uttiUDyNbNc",
        "obl0pai7YebM",
        "bkWFKAR-ehyE",
        "mOyxGktCfWdo",
        "v_lLAFRqyHyU",
        "P6vjujWc0tqr",
        "gwE6lYvB5fAT",
        "H7UTY47f61r7",
        "qk3_Ji0s3io9",
        "rrm6Dxfjj32y",
        "KGlw7-CvnRxS",
        "PpZQB8UkqoP1",
        "IwbO4AMWq9Ig",
        "RSoutlY1t3BK",
        "OKzzZe88uCrq",
        "425Cy4zwyH6m",
        "T1s2dlTiArjG",
        "M5xRKItJ8OO5",
        "8b4IaL96823S"
      ],
      "authorship_tag": "ABX9TyPbM4ZShdxAzZkYBiLF8jjv",
      "include_colab_link": true
    },
    "kernelspec": {
      "name": "python3",
      "display_name": "Python 3"
    },
    "language_info": {
      "name": "python"
    }
  },
  "cells": [
    {
      "cell_type": "markdown",
      "metadata": {
        "id": "view-in-github",
        "colab_type": "text"
      },
      "source": [
        "<a href=\"https://colab.research.google.com/github/PRAVEEN-tech777/AIML/blob/main/Interview_prep.ipynb\" target=\"_parent\"><img src=\"https://colab.research.google.com/assets/colab-badge.svg\" alt=\"Open In Colab\"/></a>"
      ]
    },
    {
      "cell_type": "markdown",
      "source": [],
      "metadata": {
        "id": "533E5YPfKSOG"
      }
    },
    {
      "cell_type": "markdown",
      "source": [
        "# **Find the Maximum Product of Two Numbers in an Array**"
      ],
      "metadata": {
        "id": "4DVBgeIb1Szq"
      }
    },
    {
      "cell_type": "code",
      "execution_count": null,
      "metadata": {
        "colab": {
          "base_uri": "https://localhost:8080/"
        },
        "id": "ls2CkrdPKJrb",
        "outputId": "ee36a94f-ea47-4360-e0fb-2b0b345a792b"
      },
      "outputs": [
        {
          "output_type": "stream",
          "name": "stdout",
          "text": [
            "-10 -5 20 10\n",
            "200\n"
          ]
        }
      ],
      "source": [
        "def max_product(arr):\n",
        "    if len(arr) < 2:\n",
        "        return None\n",
        "\n",
        "    arr.sort()\n",
        "    print(arr[0] , arr[1], arr[-1] , arr[-2])\n",
        "    return max(arr[0] * arr[1], arr[-1] * arr[-2])\n",
        "\n",
        "# Example\n",
        "arr = [1, 20, -5, 10, -10]\n",
        "print(max_product(arr))  # Output: 200\n"
      ]
    },
    {
      "cell_type": "code",
      "source": [
        "# prompt:  return max(arr[0] * arr[1], arr[-1] * arr[-2])\n",
        "#  how it is working ,every step\n",
        "\n",
        "# **Find the Maximum Product of Two Numbers in an Array**\n",
        "def max_product(arr):\n",
        "    if len(arr) < 2:\n",
        "        return None\n",
        "\n",
        "    arr.sort()  # Sort the array in ascending order.\n",
        "    # print(f\"The sorted array is: {arr}\") # For debugging\n",
        "\n",
        "    # Calculate the product of the two smallest elements (arr[0] * arr[1])\n",
        "    product1 = arr[0] * arr[1]\n",
        "    print(f\"The product of the two smallest elements is: {product1}\") # For debugging\n",
        "\n",
        "    # Calculate the product of the two largest elements (arr[-1] * arr[-2])\n",
        "    product2 = arr[-1] * arr[-2]\n",
        "    print(f\"The product of the two largest elements is: {product2}\") # For debugging\n",
        "\n",
        "    # Return the maximum of the two products.\n",
        "    return max(product1, product2)\n",
        "\n",
        "# Example\n",
        "arr = [1, 20, -5, 10, -10]\n",
        "print(max_product(arr))  # Output: 200\n"
      ],
      "metadata": {
        "colab": {
          "base_uri": "https://localhost:8080/"
        },
        "id": "WAc6t6TDKnAU",
        "outputId": "8c5dc7d7-4e5d-406a-af15-e6ce43948739"
      },
      "execution_count": null,
      "outputs": [
        {
          "output_type": "stream",
          "name": "stdout",
          "text": [
            "The product of the two smallest elements is: 50\n",
            "The product of the two largest elements is: 200\n",
            "200\n"
          ]
        }
      ]
    },
    {
      "cell_type": "code",
      "source": [
        "# prompt: Find the Maximum Product of three Numbers in an Array\n",
        "\n",
        "def max_product_three(arr):\n",
        "    if len(arr) < 3:\n",
        "        return None\n",
        "\n",
        "    arr.sort()\n",
        "    product1 = arr[0] * arr[1] * arr[-1]\n",
        "    product2 = arr[-1] * arr[-2] * arr[-3]\n",
        "    print(product1,product2)\n",
        "    return max(product1, product2)\n",
        "\n",
        "\n",
        "# Example\n",
        "arr = [1, 20, -5, 10, -10,8]\n",
        "print(max_product_three(arr))  # Output: 200\n"
      ],
      "metadata": {
        "colab": {
          "base_uri": "https://localhost:8080/"
        },
        "id": "Luei9x7DuZJb",
        "outputId": "73927c4b-32ca-4fd2-d801-875b00e4f224"
      },
      "execution_count": null,
      "outputs": [
        {
          "output_type": "stream",
          "name": "stdout",
          "text": [
            "1000 1600\n",
            "1600\n"
          ]
        }
      ]
    },
    {
      "cell_type": "markdown",
      "source": [
        "#***Find the Missing Number in an Array***\n",
        "\n",
        "\n",
        "\n",
        "\n"
      ],
      "metadata": {
        "id": "z3hGeRV4MRnL"
      }
    },
    {
      "cell_type": "code",
      "source": [
        "def missing_number(arr):\n",
        "    n = len(arr) + 1\n",
        "    total_sum = n * (n + 1) // 2\n",
        "    return total_sum - sum(arr)\n",
        "\n",
        "# Example\n",
        "arr = [     8]\n",
        "print(missing_number(arr))  # Output: 5\n"
      ],
      "metadata": {
        "colab": {
          "base_uri": "https://localhost:8080/"
        },
        "id": "u5nt46v2MXp-",
        "outputId": "f131da64-abf3-4c90-cad3-892a16154d00"
      },
      "execution_count": null,
      "outputs": [
        {
          "output_type": "stream",
          "name": "stdout",
          "text": [
            "5\n"
          ]
        }
      ]
    },
    {
      "cell_type": "code",
      "source": [
        "# prompt: explain Missing Number in an Arra\n",
        "\n",
        "# ***Find the Missing Number in an Array***\n",
        "def missing_number(arr):\n",
        "    n = len(arr) + 1  # Calculate the expected size of the array (including the missing number)\n",
        "    total_sum = n * (n + 1) // 2  # Calculate the sum of numbers from 1 to n using the formula: n(n+1)/2\n",
        "    print(f\"The sum of numbers from 1 to {n-1} is: {total_sum}\") # For debugging\n",
        "    actual_sum = sum(arr)  # Calculate the sum of the numbers in the given array\n",
        "    print(f\"The sum of the numbers in the array is: {actual_sum}\") # For debugging\n",
        "    return total_sum - actual_sum  # The difference between the expected sum and the actual sum is the missing number\n",
        "\n",
        "# Example\n",
        "arr = [1, 2, 4, 6, 3, 7, 8]\n",
        "print(missing_number(arr))  # Output: 5\n",
        "\n"
      ],
      "metadata": {
        "colab": {
          "base_uri": "https://localhost:8080/"
        },
        "id": "JNpDy6bzMgty",
        "outputId": "f79092c9-0872-451f-f271-6eb4d883db24"
      },
      "execution_count": null,
      "outputs": [
        {
          "output_type": "stream",
          "name": "stdout",
          "text": [
            "The sum of numbers from 1 to 7 is: 36\n",
            "The sum of the numbers in the array is: 31\n",
            "5\n"
          ]
        }
      ]
    },
    {
      "cell_type": "markdown",
      "source": [
        "#***Find the Second Largest Element in an Array***"
      ],
      "metadata": {
        "id": "2uttiUDyNbNc"
      }
    },
    {
      "cell_type": "code",
      "source": [
        "def second_largest(arr):\n",
        "    if len(arr) < 2:\n",
        "        return None\n",
        "\n",
        "    first, second = float('-inf'), float('-inf')\n",
        "\n",
        "    for num in arr:\n",
        "        if num > first:\n",
        "            second = first\n",
        "            first = num\n",
        "        elif num > second and num != first:\n",
        "            second = num\n",
        "\n",
        "    return second if second != float('-inf') else None\n",
        "\n",
        "# Example\n",
        "arr = [10, 5, 20, 8, 12]\n",
        "print(second_largest(arr))  # Output: 12\n"
      ],
      "metadata": {
        "colab": {
          "base_uri": "https://localhost:8080/"
        },
        "id": "Vrg6zjufNeQ8",
        "outputId": "f3278a26-b679-4e7a-839a-30a0aa553fe9"
      },
      "execution_count": null,
      "outputs": [
        {
          "output_type": "stream",
          "name": "stdout",
          "text": [
            "12\n"
          ]
        }
      ]
    },
    {
      "cell_type": "code",
      "source": [
        "# prompt: debug second_largest(arr)\n",
        "# explain\n",
        "\n",
        "# ***Find the Second Largest Element in an Array***\n",
        "def second_largest(arr):\n",
        "    if len(arr) < 2:\n",
        "        return None\n",
        "\n",
        "    first, second = float('-inf'), float('-inf')\n",
        "\n",
        "    for num in arr:\n",
        "        if num > first:\n",
        "            second = first\n",
        "            first = num\n",
        "        elif num > second and num != first:\n",
        "            second = num\n",
        "\n",
        "    return second if second != float('-inf') else None\n",
        "\n",
        "# Example\n",
        "arr = [10, 5, 20, 8, 12]\n",
        "print(second_largest(arr))  # Output: 12\n",
        "\n",
        "\n",
        "# Explanation of the Code:\n",
        "#\n",
        "# 1. **Handle Edge Cases:**\n",
        "#    - The function first checks if the array has fewer than two elements. If it does, it returns `None` because there can't be a second-largest element.\n",
        "#\n",
        "# 2. **Initialize Variables:**\n",
        "#    - `first` and `second` are initialized to negative infinity (`float('-inf')`). These variables will store the largest and second-largest elements found so far.\n",
        "#\n",
        "# 3. **Iterate Through the Array:**\n",
        "#    - The code iterates through the elements of the array using a `for` loop.\n",
        "#\n",
        "# 4. **Update `first` and `second`:**\n",
        "#    - **If the current number (`num`) is greater than `first`:**\n",
        "#      - It means we've found a new largest element.\n",
        "#      - We update `second` to the previous largest element (`first`).\n",
        "#      - We update `first` to the current number (`num`).\n",
        "#    - **Else if the current number (`num`) is greater than `second` and is not equal to `first`:**\n",
        "#      - It means we've found a new second-largest element.\n",
        "#      - We update `second` to the current number (`num`).\n",
        "#\n",
        "# 5. **Return the Second Largest Element:**\n",
        "#    - After iterating through the entire array, the function checks if `second` is still negative infinity. If it is, it means that no second-largest element was found (e.g., all elements are the same). In this case, it returns `None`.\n",
        "#    - Otherwise, it returns the value of `second`.\n",
        "#\n",
        "#\n",
        "# **Example:**\n",
        "#\n",
        "# Let's trace the code with the example array `[10, 5, 20, 8, 12]`:\n",
        "#\n",
        "# - `num = 10`: `first = 10`, `second = -inf`\n",
        "# - `num = 5`: `5` is not greater than `first`, but it's not equal to `first`. `5` > `-inf`, so `second = 5`.\n",
        "# - `num = 20`: `20` > `10`, so `second = 10`, `first = 20`.\n",
        "# - `num = 8`: `8` is not greater than `first`, but it's not equal to `first`. `8` > `10` is false.\n",
        "# - `num = 12`: `12` is not greater than `first`, but it's not equal to `first`. `12` > `10`, so `second = 12`.\n",
        "#\n",
        "# Finally, `second` is `12`, which is returned as the second-largest element.\n"
      ],
      "metadata": {
        "colab": {
          "base_uri": "https://localhost:8080/"
        },
        "id": "nKRc4vkHN3fe",
        "outputId": "9ba1587f-e5e5-40fd-efc1-aeef4917c03c"
      },
      "execution_count": null,
      "outputs": [
        {
          "output_type": "stream",
          "name": "stdout",
          "text": [
            "Current number: 10, First: -inf, Second: -inf\n",
            "After processing, First: 10, Second: -inf\n",
            "Current number: 5, First: 10, Second: -inf\n",
            "After processing, First: 10, Second: 5\n",
            "Current number: 20, First: 10, Second: 5\n",
            "After processing, First: 20, Second: 10\n",
            "Current number: 8, First: 20, Second: 10\n",
            "After processing, First: 20, Second: 10\n",
            "Current number: 12, First: 20, Second: 10\n",
            "After processing, First: 20, Second: 12\n",
            "12\n"
          ]
        }
      ]
    },
    {
      "cell_type": "code",
      "source": [],
      "metadata": {
        "id": "RUQUQuSPOBdJ"
      },
      "execution_count": null,
      "outputs": []
    },
    {
      "cell_type": "markdown",
      "source": [
        "#***Find the Pair of Elements That Sum to a Given Number***"
      ],
      "metadata": {
        "id": "obl0pai7YebM"
      }
    },
    {
      "cell_type": "code",
      "source": [
        "def find_pairs(arr, target):\n",
        "    seen = set()\n",
        "    pairs = []\n",
        "\n",
        "    for num in arr:\n",
        "        diff = target - num\n",
        "        if diff in seen:\n",
        "            pairs.append((num, diff))\n",
        "        seen.add(num)\n",
        "\n",
        "    return pairs\n",
        "\n",
        "# Example\n",
        "arr = [1, 4, 6, 8, 5, 3, 7]\n",
        "target = 9\n",
        "print(find_pairs(arr, target))  # Output: [(4, 5), (6, 3)]\n"
      ],
      "metadata": {
        "colab": {
          "base_uri": "https://localhost:8080/"
        },
        "id": "TN9IWqHFYjUF",
        "outputId": "d34dc91a-3316-45b4-8937-bf4d7d1aec4c"
      },
      "execution_count": null,
      "outputs": [
        {
          "output_type": "stream",
          "name": "stdout",
          "text": [
            "[(8, 1), (5, 4), (3, 6)]\n"
          ]
        }
      ]
    },
    {
      "cell_type": "code",
      "source": [
        "# prompt: EXPLAIN FIND PAIRS\n",
        "\n",
        "# ***Find the Pair of Elements That Sum to a Given Number***\n",
        "def find_pairs(arr, target):\n",
        "    \"\"\"\n",
        "    Finds all pairs of elements in an array that sum up to a given target number.\n",
        "\n",
        "    Args:\n",
        "        arr: The input array of numbers.\n",
        "        target: The target sum.\n",
        "\n",
        "    Returns:\n",
        "        A list of tuples, where each tuple represents a pair of elements that sum up to the target.\n",
        "    \"\"\"\n",
        "    seen = set()  # Create an empty set to store the numbers we've encountered so far.\n",
        "    pairs = []  # Create an empty list to store the pairs we find.\n",
        "\n",
        "    for num in arr:\n",
        "        diff = target - num  # Calculate the difference between the target and the current number.\n",
        "        if diff in seen:  # If the difference is in the set (meaning we've already seen a number that, when added to the current number, gives the target),\n",
        "            pairs.append((num, diff))  # Add the pair (num, diff) to the list of pairs.\n",
        "        seen.add( )  # Add the current number to the set to mark that we've seen it.\n",
        "\n",
        "    return pairs\n",
        "\n",
        "# Example\n",
        "arr = [1, 4, 6, 8, 5, 3, 7]\n",
        "target = 9\n",
        "print(find_pairs(arr, target))  # Output: [(4, 5), (6, 3)]\n",
        "\n",
        "\n",
        "# Explanation:\n",
        "#\n",
        "# 1. **Initialize `seen` and `pairs`:**\n",
        "#    - `seen` is a set used to store numbers we've encountered while iterating through the array. It helps us efficiently check if a number's complement (the number needed to reach the target sum) has already been seen.\n",
        "#    - `pairs` is a list used to store the pairs of numbers that sum up to the target.\n",
        "#\n",
        "# 2. **Iterate Through the Array:**\n",
        "#    - The code iterates through the elements of the array `arr` using a `for` loop.\n",
        "#\n",
        "# 3. **Calculate the Difference:**\n",
        "#    - `diff = target - num` calculates the difference between the target sum and the current number `num`. This `diff` represents the number we need to find in the array to form a pair that adds up to the target.\n",
        "#\n",
        "# 4. **Check if the Difference is in `seen`:**\n",
        "#    - `if diff in seen:` checks if the calculated `diff` is present in the `seen` set. If it is, it means we've already encountered a number that, when added to the current number `num`, will result in the target sum.\n",
        "#\n",
        "# 5. **Append the Pair:**\n",
        "#    - If the `diff` is in `seen`, it indicates we've found a pair. We append the pair `(num, diff)` to the `pairs` list.\n",
        "#\n",
        "# 6. **Add the Current Number to `seen`:**\n",
        "#    - `seen.add(num)` adds the current number `num` to the `seen` set. This marks that we've encountered this number, so if we find its complement later, we'll know to form a pair.\n",
        "#\n",
        "# 7. **Return the `pairs` List:**\n",
        "#    - After iterating through the entire array, the function returns the `pairs` list, which contains all the pairs of numbers that sum up to the target.\n",
        "#\n",
        "# **Example:**\n",
        "#\n",
        "# Let's consider the example `arr = [1, 4, 6, 8, 5, 3, 7]` and `target = 9`.\n",
        "#\n",
        "# - `num = 1`: `diff = 9 - 1 = 8`. `8` is not in `seen`. `seen = {1}`.\n",
        "# - `num = 4`: `diff = 9 - 4 = 5`. `5` is not in `seen`. `seen = {1, 4}`.\n",
        "# - `num = 6`: `diff = 9 - 6 = 3`. `3` is not in `seen`. `seen = {1, 4, 6}`.\n",
        "# - `num = 8`: `diff = 9 - 8 = 1`. `1` is in `seen`. We found a pair `(8, 1)`. `pairs = [(8, 1)]`. `seen = {1, 4, 6, 8}`.\n",
        "# - `num = 5`: `diff = 9 - 5 = 4`. `4` is in `seen`. We found a pair `(5, 4)`. `pairs = [(8, 1), (5, 4)]`. `seen = {1, 4, 6, 8, 5}`.\n",
        "# - `num = 3`: `diff = 9 - 3 = 6`. `6` is in `seen`. We found a pair `(3, 6)`. `pairs = [(8, 1), (5, 4), (3, 6)]`. `seen = {1, 4, 6, 8, 5, 3}`.\n",
        "# - `num = 7`: `diff = 9 - 7 = 2`. `2` is not in `seen`. `seen = {1, 4, 6, 8, 5, 3, 7}`.\n",
        "#\n",
        "# The function returns `[(8, 1), (5, 4), (3, 6)]`.\n"
      ],
      "metadata": {
        "id": "iUntHwwZYlXU"
      },
      "execution_count": null,
      "outputs": []
    },
    {
      "cell_type": "markdown",
      "source": [
        "#***Move All Zeroes to the End of the Array***"
      ],
      "metadata": {
        "id": "bkWFKAR-ehyE"
      }
    },
    {
      "cell_type": "code",
      "source": [
        "def move_zeroes(arr):\n",
        "    j = 0  # index of the last non-zero element\n",
        "\n",
        "    for i in range(len(arr)):\n",
        "        if arr[i] != 0:\n",
        "            arr[i], arr[j] = arr[j], arr[i]\n",
        "            j += 1\n",
        "\n",
        "    return arr\n",
        "\n",
        "# Example\n",
        "arr = [0, 1, 0, 3, 12]\n",
        "print(move_zeroes(arr))  # Output: [1, 3, 12, 0, 0]\n"
      ],
      "metadata": {
        "colab": {
          "base_uri": "https://localhost:8080/"
        },
        "id": "3ojVHibQekqw",
        "outputId": "1e9fa438-749b-4995-8d4e-9d0201beba5e"
      },
      "execution_count": null,
      "outputs": [
        {
          "output_type": "stream",
          "name": "stdout",
          "text": [
            "[1, 3, 12, 0, 0]\n"
          ]
        }
      ]
    },
    {
      "cell_type": "code",
      "source": [
        "# prompt: Explain move_zeros\n",
        "\n",
        "# ***Move All Zeroes to the End of the Array***\n",
        "def move_zeroes(arr):\n",
        "    \"\"\"\n",
        "    Moves all zeroes in an array to the end of the array while maintaining the order of other elements.\n",
        "\n",
        "    Args:\n",
        "        arr: The input array of numbers.\n",
        "\n",
        "    Returns:\n",
        "        The modified array with all zeroes moved to the end.\n",
        "    \"\"\"\n",
        "    j = 0  # Index of the last non-zero element encountered so far.\n",
        "\n",
        "    for i in range(len(arr)):\n",
        "        if arr[i] != 0:  # If the current element is not zero,\n",
        "            arr[i], arr[j] = arr[j], arr[i]  # Swap it with the element at index j.\n",
        "            j += 1  # Increment j to point to the next position for a non-zero element.\n",
        "\n",
        "    return arr\n",
        "\n",
        "# Example\n",
        "arr = [0, 1, 0, 3, 12]\n",
        "print(move_zeroes(arr))  # Output: [1, 3, 12, 0, 0]\n",
        "\n",
        "\n",
        "# Explanation:\n",
        "\n",
        "# 1. `j` is initialized to 0. This variable keeps track of the index where the next non-zero element should be placed.\n",
        "# 2. The code iterates through the array using a `for` loop with index `i`.\n",
        "# 3. `if arr[i] != 0`: If the current element at index `i` is not zero, it means we've found a non-zero element.\n",
        "# 4. `arr[i], arr[j] = arr[j], arr[i]`: We swap the current non-zero element `arr[i]` with the element at index `j`. This effectively moves the non-zero element towards the beginning of the array.\n",
        "# 5. `j += 1`: We increment `j` to point to the next position where a non-zero element should be placed.\n",
        "# 6. The loop continues until all elements have been processed.\n",
        "# 7. After the loop finishes, all non-zero elements have been moved towards the beginning of the array, and the remaining positions (from index `j` to the end of the array) will naturally be filled with zeroes.\n",
        "# 8. The function returns the modified array `arr`.\n",
        "\n",
        "\n",
        "# Example:\n",
        "#\n",
        "# Let's consider `arr = [0, 1, 0, 3, 12]`:\n",
        "#\n",
        "# - `i = 0`, `arr[0] = 0`. The condition `arr[i] != 0` is false.\n",
        "# - `i = 1`, `arr[1] = 1`. The condition `arr[i] != 0` is true.\n",
        "#   - `arr[1], arr[0] = arr[0], arr[1]` (swap 1 and 0). Now, `arr = [1, 0, 0, 3, 12]`.\n",
        "#   - `j = 1`.\n",
        "# - `i = 2`, `arr[2] = 0`. The condition `arr[i] != 0` is false.\n",
        "# - `i = 3`, `arr[3] = 3`. The condition `arr[i] != 0` is true.\n",
        "#   - `arr[3], arr[1] = arr[1], arr[3]` (swap 3 and 0). Now, `arr = [1, 3, 0, 0, 12]`.\n",
        "#   - `j = 2`.\n",
        "# - `i = 4`, `arr[4] = 12`. The condition `arr[i] != 0` is true.\n",
        "#   - `arr[4], arr[2] = arr[2], arr[4]` (swap 12 and 0). Now, `arr = [1, 3, 12, 0, 0]`.\n",
        "#   - `j = 3`.\n",
        "#\n",
        "# The loop finishes. The array is now `[1, 3, 12, 0, 0]`.\n"
      ],
      "metadata": {
        "id": "c56jCMagewfP"
      },
      "execution_count": null,
      "outputs": []
    },
    {
      "cell_type": "markdown",
      "source": [
        "#***Kadane’s Algorithm – Maximum Subarray Sum***"
      ],
      "metadata": {
        "id": "mOyxGktCfWdo"
      }
    },
    {
      "cell_type": "code",
      "source": [
        "def max_subarray_sum(arr):\n",
        "    max_sum = cur_sum = arr[0]\n",
        "\n",
        "    for num in arr[1:]:\n",
        "        cur_sum = max(num, cur_sum + num)\n",
        "        max_sum = max(max_sum, cur_sum)\n",
        "\n",
        "    return max_sum\n",
        "\n",
        "# Example\n",
        "arr = [-2, 1, -3, 4, -1, 2, 1, -5, 4]\n",
        "print(max_subarray_sum(arr))  # Output: 6 (subarray: [4, -1, 2, 1])\n"
      ],
      "metadata": {
        "id": "f4q-MVvEfZMc"
      },
      "execution_count": null,
      "outputs": []
    },
    {
      "cell_type": "code",
      "source": [
        "# prompt: ***Kadane’s Algorithm – Maximum Subarray Sum*** explain\n",
        "\n",
        "# ***Kadane’s Algorithm – Maximum Subarray Sum***\n",
        "def max_subarray_sum(arr):\n",
        "    \"\"\"\n",
        "    Finds the maximum sum of a contiguous subarray within an array using Kadane's algorithm.\n",
        "\n",
        "    Args:\n",
        "        arr: The input array of numbers.\n",
        "\n",
        "    Returns:\n",
        "        The maximum subarray sum.\n",
        "    \"\"\"\n",
        "    max_so_far = arr[0]  # Initialize the maximum sum found so far to the first element.\n",
        "    current_max = arr[0]  # Initialize the current maximum sum to the first element.\n",
        "\n",
        "    for i in range(1, len(arr)):\n",
        "        # Update the current maximum sum by comparing the current element\n",
        "        # with the sum of the current element and the previous maximum sum.\n",
        "        current_max = max(arr[i], current_max + arr[i])\n",
        "\n",
        "        # Update the overall maximum sum by comparing the current maximum sum\n",
        "        # with the maximum sum found so far.\n",
        "        max_so_far = max(max_so_far, current_max)\n",
        "\n",
        "    return max_so_far  # Return the overall maximum sum.\n",
        "\n",
        "# Example\n",
        "arr = [-2, 1, -3, 4, -1, 2, 1, -5, 4]\n",
        "print(max_subarray_sum(arr))  # Output: 6 (subarray: [4, -1, 2, 1])\n",
        "\n",
        "\n",
        "# Explanation:\n",
        "#\n",
        "# Kadane's algorithm is a dynamic programming approach to find the maximum sum of a contiguous subarray within an array.\n",
        "# It works by iterating through the array and keeping track of the maximum sum found so far and the current maximum sum.\n",
        "#\n",
        "# 1. **Initialization:**\n",
        "#    - `max_so_far`: Stores the maximum sum found so far. Initialized to the first element of the array.\n",
        "#    - `current_max`: Stores the maximum sum ending at the current position. Initialized to the first element.\n",
        "#\n",
        "# 2. **Iteration:**\n",
        "#    - The code iterates through the array starting from the second element (index 1).\n",
        "#    - For each element `arr[i]`:\n",
        "#      - `current_max = max(arr[i], current_max + arr[i])`:\n",
        "#        - We either start a new subarray from the current element (if the current element is greater than the current maximum sum plus the current element) or extend the previous subarray (if the sum of the current element and the previous maximum sum is greater).\n",
        "#      - `max_so_far = max(max_so_far, current_max)`:\n",
        "#        - We update the overall maximum sum (`max_so_far`) by comparing the current maximum sum (`current_max`) with the maximum sum found so far.\n",
        "#\n",
        "# 3. **Return:**\n",
        "#    - After iterating through the entire array, the function returns `max_so_far`, which represents the maximum sum of a contiguous subarray.\n",
        "\n",
        "# Example Trace:\n",
        "#\n",
        "# Let's trace the example `arr = [-2, 1, -3, 4, -1, 2, 1, -5, 4]`:\n",
        "#\n",
        "# | i | arr[i] | current_max | max_so_far |\n",
        "# |---|--------|-------------|------------|\n",
        "# | 0 | -2     | -2          | -2         |\n",
        "# | 1 | 1      | 1           | 1          |\n",
        "# | 2 | -3     | -2          | 1          |\n",
        "# | 3 | 4      | 4           | 4          |\n",
        "# | 4 | -1     | 3           | 4          |\n",
        "# | 5 | 2      | 5           | 5          |\n",
        "# | 6 | 1      | 6           | 6          |\n",
        "# | 7 | -5     | 1           | 6          |\n",
        "# | 8 | 4      | 4           | 6          |\n",
        "#\n",
        "# The function returns 6, which is the maximum sum of a contiguous subarray (4, -1, 2, 1).\n"
      ],
      "metadata": {
        "id": "2fkjVw-xfnjl"
      },
      "execution_count": null,
      "outputs": []
    },
    {
      "cell_type": "code",
      "source": [
        "# prompt: what is contiguous subarray\n",
        "\n",
        "# A contiguous subarray is a sequence of consecutive elements within an array.\n",
        "\n",
        "# Example:\n",
        "arr = [1, 2, 3, 4, 5]\n",
        "\n",
        "# Some contiguous subarrays of arr:\n",
        "# [1]\n",
        "# [1, 2]\n",
        "# [1, 2, 3]\n",
        "# [2, 3]\n",
        "# [3, 4, 5]\n",
        "# [5]\n",
        "\n",
        "\n",
        "# Note that [1, 3] is NOT a contiguous subarray because 2 is missing between 1 and 3.\n",
        "# Also, [1, 5] is NOT a contiguous subarray because elements 2, 3, 4 are missing.\n"
      ],
      "metadata": {
        "id": "NpeVdUB4hK3q"
      },
      "execution_count": null,
      "outputs": []
    },
    {
      "cell_type": "markdown",
      "source": [
        "#***Rotate Array by K Positions***"
      ],
      "metadata": {
        "id": "v_lLAFRqyHyU"
      }
    },
    {
      "cell_type": "code",
      "source": [
        "def rotate(arr, k):\n",
        "    n = len(arr)\n",
        "    k = k % n\n",
        "    d=k // n\n",
        "    print(k,d,n)  # In case k is greater than length of array\n",
        "    return arr[-k:] + arr[:-k]\n",
        "\n",
        "# Example\n",
        "arr = [1, 2, 3, 4, 5, 6, 7]\n",
        "k = 3\n",
        "print(rotate(arr, k))  # Output: [5, 6, 7, 1, 2, 3, 4]\n"
      ],
      "metadata": {
        "colab": {
          "base_uri": "https://localhost:8080/"
        },
        "id": "5HMSqKu7vTD5",
        "outputId": "6ebb6c06-5856-48a9-9837-d0e3f0aa4081"
      },
      "execution_count": null,
      "outputs": [
        {
          "output_type": "stream",
          "name": "stdout",
          "text": [
            "3 0 7 3\n",
            "[5, 6, 7, 1, 2, 3, 4]\n"
          ]
        }
      ]
    },
    {
      "cell_type": "markdown",
      "source": [
        "#***Find Duplicates in an Array***"
      ],
      "metadata": {
        "id": "P6vjujWc0tqr"
      }
    },
    {
      "cell_type": "code",
      "source": [
        "def find_duplicates(arr):\n",
        "    duplicates = []\n",
        "    for i in range(len(arr)):\n",
        "        index = abs(arr[i]) - 1\n",
        "        if arr[index] < 0:\n",
        "            duplicates.append(abs(arr[i]))\n",
        "        else:\n",
        "            arr[index] = -arr[index]\n",
        "    return duplicates\n",
        "\n",
        "# Example\n",
        "arr = [4, 3, 2, 7, 8, 2, 3, 1]\n",
        "print(find_duplicates(arr))  # Output: [2, 3]\n"
      ],
      "metadata": {
        "colab": {
          "base_uri": "https://localhost:8080/"
        },
        "id": "3vS42kTm00Fv",
        "outputId": "003cc3f2-6101-44ee-dde4-b0ef6e3eb0cc"
      },
      "execution_count": null,
      "outputs": [
        {
          "output_type": "stream",
          "name": "stdout",
          "text": [
            "[2, 3, 1]\n"
          ]
        }
      ]
    },
    {
      "cell_type": "code",
      "source": [
        "# prompt: find_duplicates explain use dictionar\n",
        "\n",
        "# ***Find Duplicates in an Array using a Dictionary***\n",
        "def find_duplicates_dict(arr):\n",
        "    \"\"\"\n",
        "    Finds duplicate numbers in an array using a dictionary.\n",
        "\n",
        "    Args:\n",
        "        arr: The input array of numbers.\n",
        "\n",
        "    Returns:\n",
        "        A list of duplicate numbers.\n",
        "    \"\"\"\n",
        "    counts = {}  # Create an empty dictionary to store the counts of each number.\n",
        "    duplicates = []  # Create an empty list to store the duplicate numbers.\n",
        "\n",
        "    for num in arr:\n",
        "        if num in counts:\n",
        "            # If the number is already in the dictionary, it means it's a duplicate.\n",
        "            if num not in duplicates:  # Avoid adding duplicates to the duplicates list.\n",
        "                duplicates.append(num)\n",
        "        else:\n",
        "            # If the number is not in the dictionary, add it with a count of 1.\n",
        "            counts[num] = 1\n",
        "\n",
        "    return duplicates\n",
        "\n",
        "# Example\n",
        "arr = [4, 3, 2, 7, 8, 2, 3, 1]\n",
        "print(find_duplicates_dict(arr))  # Output: [2, 3]\n",
        "\n"
      ],
      "metadata": {
        "colab": {
          "base_uri": "https://localhost:8080/"
        },
        "id": "eiTRMOue1ArL",
        "outputId": "9aae0510-703a-4837-c047-d4f81bf79589"
      },
      "execution_count": null,
      "outputs": [
        {
          "output_type": "stream",
          "name": "stdout",
          "text": [
            "[2, 3, 1]\n"
          ]
        }
      ]
    },
    {
      "cell_type": "code",
      "source": [
        "arr = [4, 3, 2, 7, 8, 2, 3, 1,-1]\n",
        "def dup(arr):\n",
        "  dict={}\n",
        "  l=[]\n",
        "  for i in arr:\n",
        "    if i in dict:\n",
        "      if i not in l:\n",
        "        l.append(i)\n",
        "    else:\n",
        "      dict[i]=1\n",
        "  return l\n",
        "print(dup(arr))"
      ],
      "metadata": {
        "colab": {
          "base_uri": "https://localhost:8080/"
        },
        "id": "6jlAUqMe3hLX",
        "outputId": "f5183911-9b99-4837-96b7-dcbdd383b8cf"
      },
      "execution_count": null,
      "outputs": [
        {
          "output_type": "stream",
          "name": "stdout",
          "text": [
            "[2, 3]\n"
          ]
        }
      ]
    },
    {
      "cell_type": "code",
      "source": [],
      "metadata": {
        "id": "gJuvjb1m4Lj2"
      },
      "execution_count": null,
      "outputs": []
    },
    {
      "cell_type": "markdown",
      "source": [
        "#***Find the Intersection of Two Arrays***"
      ],
      "metadata": {
        "id": "gwE6lYvB5fAT"
      }
    },
    {
      "cell_type": "code",
      "source": [
        "def inter(arr1,arr2):\n",
        "  a=set(arr1)\n",
        "  b=set(arr2)\n",
        "\n",
        "  #return list(a+b)\n",
        "  return list(a.intersection(b))\n",
        "\n",
        "arr1 = [1, 2, 2, 1]\n",
        "arr2 = [2, 2]\n",
        "print(inter(arr1, arr2))"
      ],
      "metadata": {
        "colab": {
          "base_uri": "https://localhost:8080/"
        },
        "id": "uWggfY-R5gsY",
        "outputId": "af675a41-c7bf-465c-831e-cf111c452268"
      },
      "execution_count": null,
      "outputs": [
        {
          "output_type": "stream",
          "name": "stdout",
          "text": [
            "[2]\n"
          ]
        }
      ]
    },
    {
      "cell_type": "markdown",
      "source": [
        "#***Merge Two Sorted Arrays***"
      ],
      "metadata": {
        "id": "H7UTY47f61r7"
      }
    },
    {
      "cell_type": "code",
      "source": [
        "def merge_arrays(arr1, arr2):\n",
        "    i = j = 0\n",
        "    merged = []\n",
        "\n",
        "    while i < len(arr1) and j < len(arr2):\n",
        "        if arr1[i] < arr2[j]:\n",
        "            merged.append(arr1[i])\n",
        "            i += 1\n",
        "        else:\n",
        "            merged.append(arr2[j])\n",
        "            j += 1\n",
        "\n",
        "    merged.extend(arr1[i:])\n",
        "    merged.extend(arr2[j:])\n",
        "\n",
        "    return merged\n",
        "\n",
        "# Example\n",
        "arr1 = [1, 3, 5, 7]\n",
        "arr2 = [2, 4, 6, 8]\n",
        "print(merge_arrays(arr1, arr2))  # Output: [1, 2, 3, 4, 5, 6, 7, 8]\n"
      ],
      "metadata": {
        "id": "woEslT8H5tI3"
      },
      "execution_count": null,
      "outputs": []
    },
    {
      "cell_type": "code",
      "source": [
        "# prompt: merge_arrays explain\n",
        "\n",
        "# ***Merge Two Sorted Arrays***\n",
        "def merge_arrays(arr1, arr2):\n",
        "    \"\"\"\n",
        "    Merges two sorted arrays into a single sorted array.\n",
        "\n",
        "    Args:\n",
        "        arr1: The first sorted array.\n",
        "        arr2: The second sorted array.\n",
        "\n",
        "    Returns:\n",
        "        A new sorted array containing all elements from arr1 and arr2.\n",
        "    \"\"\"\n",
        "    i = j = 0  # Initialize pointers for both arrays to 0.\n",
        "    merged = []  # Create an empty list to store the merged elements.\n",
        "\n",
        "    # Iterate while both arrays have elements to compare.\n",
        "    while i < len(arr1) and j < len(arr2):\n",
        "        # Compare the current elements of arr1 and arr2.\n",
        "        if arr1[i] < arr2[j]:\n",
        "            # If the current element in arr1 is smaller, append it to the merged array.\n",
        "            merged.append(arr1[i])\n",
        "            i += 1  # Move the pointer for arr1 to the next element.\n",
        "        else:\n",
        "            # If the current element in arr2 is smaller or equal, append it to the merged array.\n",
        "            merged.append(arr2[j])\n",
        "            j += 1  # Move the pointer for arr2 to the next element.\n",
        "\n",
        "    # After one of the arrays is exhausted, append the remaining elements of the other array.\n",
        "    merged.extend(arr1[i:])  # Extend merged with any remaining elements in arr1.\n",
        "    merged.extend(arr2[j:])  # Extend merged with any remaining elements in arr2.\n",
        "\n",
        "    return merged  # Return the merged and sorted array.\n",
        "\n",
        "# Example\n",
        "arr1 = [1, 3, 5, 7]\n",
        "arr2 = [2, 4, 6, 8]\n",
        "print(merge_arrays(arr1, arr2))  # Output: [1, 2, 3, 4, 5, 6, 7, 8]\n"
      ],
      "metadata": {
        "id": "-Ku6dLLQ7Buq"
      },
      "execution_count": null,
      "outputs": []
    },
    {
      "cell_type": "code",
      "source": [
        "def merge_arrays(arr1, arr2):\n",
        "    # a=arr1.sort()\n",
        "    # b=arr2.sort()\n",
        "    # print(a,b)\n",
        "    return arr1+arr2\n",
        "\n",
        "arr1 = [1, 3, 5, 7]\n",
        "arr2 = [2, 4, 6, 8]\n",
        "print(merge_arrays(arr1, arr2))"
      ],
      "metadata": {
        "colab": {
          "base_uri": "https://localhost:8080/"
        },
        "id": "t3L52xTM7YdF",
        "outputId": "aeeb9eff-da75-4716-9b17-40f44968130d"
      },
      "execution_count": null,
      "outputs": [
        {
          "output_type": "stream",
          "name": "stdout",
          "text": [
            "[1, 3, 5, 7, 2, 4, 6, 8]\n"
          ]
        }
      ]
    },
    {
      "cell_type": "markdown",
      "source": [
        "#**#Binary Sort**"
      ],
      "metadata": {
        "id": "qk3_Ji0s3io9"
      }
    },
    {
      "cell_type": "code",
      "source": [
        "def bs (arr):\n",
        "  n=len(arr)\n",
        "  for i in range(n):\n",
        "    for j in range(i+1,n):\n",
        "      if arr[i]>arr[j]:\n",
        "        arr[i],arr[j]=arr[j],arr[i]\n",
        "  return arr\n",
        "\n",
        "arr = [2, 16,4, 6, 8]\n",
        "print(bs(arr))"
      ],
      "metadata": {
        "colab": {
          "base_uri": "https://localhost:8080/"
        },
        "id": "k0icOfB37ahG",
        "outputId": "f70ee5fd-7518-4cdc-cb6d-7d25103a3dd2"
      },
      "execution_count": null,
      "outputs": [
        {
          "output_type": "stream",
          "name": "stdout",
          "text": [
            "[2, 4, 6, 8, 16]\n"
          ]
        }
      ]
    },
    {
      "cell_type": "code",
      "source": [
        "# prompt: binary sort\n",
        "\n",
        "def binary_sort(arr):\n",
        "    n = len(arr)\n",
        "    for i in range(n):\n",
        "        for j in range(i + 1, n):\n",
        "            if arr[i] > arr[j]:\n",
        "                arr[i], arr[j] = arr[j], arr[i]\n",
        "    return arr\n",
        "\n",
        "arr = [2, 16, 4, 6, 8]\n",
        "print(binary_sort(arr))\n"
      ],
      "metadata": {
        "colab": {
          "base_uri": "https://localhost:8080/"
        },
        "id": "S9m2ZPcP9v_r",
        "outputId": "ef526532-8d7e-4d65-e8e5-2620347b78cb"
      },
      "execution_count": null,
      "outputs": [
        {
          "output_type": "stream",
          "name": "stdout",
          "text": [
            "[2, 4, 6, 8, 16]\n"
          ]
        }
      ]
    },
    {
      "cell_type": "markdown",
      "source": [
        "#***Program to find of sum of the string***"
      ],
      "metadata": {
        "id": "rrm6Dxfjj32y"
      }
    },
    {
      "cell_type": "code",
      "source": [
        "# prompt: you are given string s consisting of lowe case letter .the letters a to z are assigned 1 to 26 .the program to find of sum of the string . python\n",
        "\n",
        "def string_sum(s):\n",
        "  \"\"\"\n",
        "  Calculates the sum of a string based on the assigned values of letters (a=1, b=2, ..., z=26).\n",
        "\n",
        "  Args:\n",
        "      s: The input string.\n",
        "\n",
        "  Returns:\n",
        "      The sum of the string.\n",
        "  \"\"\"\n",
        "  sum_of_string = 0\n",
        "  for char in s:\n",
        "    sum_of_string += (ord(char) - ord('a') + 1)\n",
        "        print(ord(char),ord('a'),ord(char) - ord('a'),ord(char) - ord('a') + 1)\n",
        "  return sum_of_string\n",
        "\n",
        "\n",
        "# Example\n",
        "s = \"abc\"\n",
        "print(string_sum(s))  # Output: 6 (1 + 2 + 3)\n"
      ],
      "metadata": {
        "colab": {
          "base_uri": "https://localhost:8080/"
        },
        "id": "G_Qj6-bRX1IT",
        "outputId": "7ee4ac9a-b520-41f3-e4f2-b7beb263932f"
      },
      "execution_count": null,
      "outputs": [
        {
          "output_type": "stream",
          "name": "stdout",
          "text": [
            "97 97 0 1\n",
            "98 97 1 2\n",
            "99 97 2 3\n",
            "6\n"
          ]
        }
      ]
    },
    {
      "cell_type": "markdown",
      "source": [
        "#***Find the nth Fibonacci Number***"
      ],
      "metadata": {
        "id": "KGlw7-CvnRxS"
      }
    },
    {
      "cell_type": "markdown",
      "source": [
        "***Sequence of number that sum of two number that came before it \\\\***"
      ],
      "metadata": {
        "id": "97oLjw7PpiA0"
      }
    },
    {
      "cell_type": "code",
      "source": [
        "#Its More efficiency compare to another code\n",
        "\n",
        "def fibonacci(n):\n",
        "    if n <= 0:\n",
        "        return \"Input should be greater than 0\"\n",
        "    elif n == 1 or n == 2:\n",
        "        return 1\n",
        "    else:\n",
        "        a, b = 1, 1\n",
        "        for i in range(3, n + 1):\n",
        "            a, b = b, a + b\n",
        "        return b\n",
        "\n",
        "# Example\n",
        "n = 8\n",
        "print(f\"Fibonacci number at position {n}: {fibonacci(n)}\")"
      ],
      "metadata": {
        "colab": {
          "base_uri": "https://localhost:8080/"
        },
        "id": "g9h4Piw-ZwvI",
        "outputId": "decfd39b-70be-49ca-d04f-d6a74c1999b2"
      },
      "execution_count": null,
      "outputs": [
        {
          "output_type": "stream",
          "name": "stdout",
          "text": [
            "Fibonacci number at position 8: 21\n"
          ]
        }
      ]
    },
    {
      "cell_type": "code",
      "source": [
        "def fibonacci(n):\n",
        "    if n <= 0:\n",
        "        return \"Input should be greater than 0\"\n",
        "    elif n == 1 or n == 2:\n",
        "        return 1\n",
        "    else:\n",
        "      return fibonacci(n-2)+fibonacci(n-1)\n",
        "\n",
        "# Example\n",
        "n = 10\n",
        "print(f\"Fibonacci number at position {n}: {fibonacci(n)}\")"
      ],
      "metadata": {
        "colab": {
          "base_uri": "https://localhost:8080/"
        },
        "id": "cjl_oe7CpRZ4",
        "outputId": "ae2a9607-2cf6-4dc1-cccc-b6195e0d6d2e"
      },
      "execution_count": null,
      "outputs": [
        {
          "output_type": "stream",
          "name": "stdout",
          "text": [
            "Fibonacci number at position 10: 55\n"
          ]
        }
      ]
    },
    {
      "cell_type": "markdown",
      "source": [
        "#**Reverse a String**"
      ],
      "metadata": {
        "id": "PpZQB8UkqoP1"
      }
    },
    {
      "cell_type": "code",
      "source": [
        "def rev(s):\n",
        "  return s[::-1]\n",
        "\n",
        "s=\"hello\"\n",
        "print(rev(s))"
      ],
      "metadata": {
        "colab": {
          "base_uri": "https://localhost:8080/"
        },
        "id": "y-4anr0ipaL0",
        "outputId": "bff13c66-7fdf-4de2-e5e3-544204cf3295"
      },
      "execution_count": null,
      "outputs": [
        {
          "output_type": "stream",
          "name": "stdout",
          "text": [
            "olleh\n"
          ]
        }
      ]
    },
    {
      "cell_type": "code",
      "source": [
        "def reverse_string(s):\n",
        "    reversed_s = \"\"\n",
        "    for char in s:\n",
        "        reversed_s = char + reversed_s\n",
        "    return reversed_s\n",
        "\n",
        "# Example\n",
        "s = \"Zoho\"\n",
        "print(f\"Reversed string: {reverse_string(s)}\")\n"
      ],
      "metadata": {
        "colab": {
          "base_uri": "https://localhost:8080/"
        },
        "id": "FwbxfGm8qsDd",
        "outputId": "e8255198-e4ae-4a27-8e37-29cdd004b14f"
      },
      "execution_count": null,
      "outputs": [
        {
          "output_type": "stream",
          "name": "stdout",
          "text": [
            "Reversed string: ohoZ\n"
          ]
        }
      ]
    },
    {
      "cell_type": "markdown",
      "source": [
        "#***Remove Duplicates from a List***"
      ],
      "metadata": {
        "id": "IwbO4AMWq9Ig"
      }
    },
    {
      "cell_type": "code",
      "source": [
        "def remove_duplicates(lst):\n",
        "    return list(set(lst))\n",
        "\n",
        "# Example\n",
        "lst = [1, 2, 2, 3, 4, 4, 5]\n",
        "print(f\"List without duplicates: {remove_duplicates(lst)}\")\n"
      ],
      "metadata": {
        "colab": {
          "base_uri": "https://localhost:8080/"
        },
        "id": "l2vlRLksq3gg",
        "outputId": "08ceabca-3888-4fc9-d97e-ecdf15d1fd2d"
      },
      "execution_count": null,
      "outputs": [
        {
          "output_type": "stream",
          "name": "stdout",
          "text": [
            "List without duplicates: [1, 2, 3, 4, 5]\n"
          ]
        }
      ]
    },
    {
      "cell_type": "code",
      "source": [
        "def remove_duplicates(lst):\n",
        "  l=[]\n",
        "  for i in lst:\n",
        "    if i not in l:\n",
        "      l.append(i)\n",
        "  return l\n",
        "\n",
        "# Example\n",
        "lst = [1, 2, 2, 3, 4, 4, 5]\n",
        "print(f\"List without duplicates: {remove_duplicates(lst)}\")"
      ],
      "metadata": {
        "colab": {
          "base_uri": "https://localhost:8080/"
        },
        "id": "P7foCGW1rCog",
        "outputId": "3be5a5dd-c6d0-44f7-deda-f3ccbb7958fd"
      },
      "execution_count": null,
      "outputs": [
        {
          "output_type": "stream",
          "name": "stdout",
          "text": [
            "List without duplicates: [1, 2, 3, 4, 5]\n"
          ]
        }
      ]
    },
    {
      "cell_type": "markdown",
      "source": [
        "#**Duplicates Count**"
      ],
      "metadata": {
        "id": "RSoutlY1t3BK"
      }
    },
    {
      "cell_type": "code",
      "source": [
        "def count(lst):\n",
        "  l=[]\n",
        "  s={}\n",
        "  for i in lst:\n",
        "    if i not   in l:\n",
        "      l.append(i)\n",
        "      s[i]=1\n",
        "    else:\n",
        "      s[i]+=1\n",
        "  return s,l\n",
        "\n",
        "# Example\n",
        "lst = [1, 2, 2, 3, 4, 4, 5]\n",
        "print(f\"count duplicates: {count(lst)}\")"
      ],
      "metadata": {
        "colab": {
          "base_uri": "https://localhost:8080/"
        },
        "id": "UgGww6h6rTL1",
        "outputId": "b970a265-b9f1-4169-e1c4-4ae57d85c325"
      },
      "execution_count": null,
      "outputs": [
        {
          "output_type": "stream",
          "name": "stdout",
          "text": [
            "count duplicates: ({1: 1, 2: 2, 3: 1, 4: 2, 5: 1}, [1, 2, 3, 4, 5])\n"
          ]
        }
      ]
    },
    {
      "cell_type": "markdown",
      "source": [
        "#**Find the Factorial of a Number**"
      ],
      "metadata": {
        "id": "OKzzZe88uCrq"
      }
    },
    {
      "cell_type": "code",
      "source": [
        "def factorial(n):\n",
        "    if n == 0 or n == 1:\n",
        "        return 1\n",
        "    else:\n",
        "        return n * factorial(n - 1)\n",
        "\n",
        "# Example\n",
        "n = 5\n",
        "print(f\"Factorial of {n}: {factorial(n)}\")\n"
      ],
      "metadata": {
        "colab": {
          "base_uri": "https://localhost:8080/"
        },
        "id": "-Wk9s78ZuDDW",
        "outputId": "0850c5b4-b16b-4ee7-cfd8-37eb88c58b9b"
      },
      "execution_count": null,
      "outputs": [
        {
          "output_type": "stream",
          "name": "stdout",
          "text": [
            "Factorial of 5: 120\n"
          ]
        }
      ]
    },
    {
      "cell_type": "code",
      "source": [
        "# prompt: alternate way for factorial num\n",
        "\n",
        "def factorial_iterative(n):\n",
        "    \"\"\"\n",
        "    Calculates the factorial of a number using an iterative approach.\n",
        "\n",
        "    Args:\n",
        "        n: The number for which to calculate the factorial.\n",
        "\n",
        "    Returns:\n",
        "        The factorial of n.\n",
        "    \"\"\"\n",
        "    if n < 0:\n",
        "        return \"Factorial is not defined for negative numbers\"\n",
        "    elif n == 0:\n",
        "        return 1\n",
        "    else:\n",
        "        result = 1\n",
        "        for i in range(1, n + 1):\n",
        "            result *= i\n",
        "        return result\n",
        "\n",
        "# Example\n",
        "n = 5\n",
        "print(f\"Factorial of {n}: {factorial_iterative(n)}\")\n"
      ],
      "metadata": {
        "colab": {
          "base_uri": "https://localhost:8080/"
        },
        "id": "p32BcmyxuKvb",
        "outputId": "0f23a398-a58a-4963-da7d-c08375fbaa1b"
      },
      "execution_count": null,
      "outputs": [
        {
          "output_type": "stream",
          "name": "stdout",
          "text": [
            "Factorial of 5: 120\n"
          ]
        }
      ]
    },
    {
      "cell_type": "markdown",
      "source": [
        "#**Find All Prime Numbers Up to a Number**"
      ],
      "metadata": {
        "id": "425Cy4zwyH6m"
      }
    },
    {
      "cell_type": "code",
      "source": [
        "# prompt: explain prime number\n",
        "\n",
        "# A prime number is a whole number greater than 1 that has only two divisors: 1 and itself.\n",
        "# In other words, a prime number is a natural number greater than 1 that is not a product of two smaller natural numbers.\n",
        "# A natural number greater than 1 that is not prime is called a composite number.\n",
        "# For example, 5 is prime because it is only divisible by 1 and 5.\n",
        "# However, 6 is composite because it is divisible by 1, 2, 3, and 6.\n",
        "\n",
        "# Here's a more formal definition:\n",
        "# A prime number (or a prime) is a natural number greater than 1 that has no positive divisors other than 1 and itself.\n",
        "# A natural number greater than 1 that is not a prime number is called a composite number.\n",
        "# For example, 5 is prime because 1 and 5 are its only positive integer divisors.\n"
      ],
      "metadata": {
        "id": "P_YXUAeJy3w0"
      },
      "execution_count": null,
      "outputs": []
    },
    {
      "cell_type": "code",
      "source": [
        "def is_prime(n):\n",
        "    if n <= 1:\n",
        "        return False\n",
        "    for i in range(2, int(n**0.5) + 1):\n",
        "      p=int(n**0.5)\n",
        "\n",
        "      if n % i == 0:\n",
        "        print(p,i,n)\n",
        "        return False\n",
        "    return True\n",
        "\n",
        "def primes_up_to(n):\n",
        "    return [i for i in range(2, n + 1) if is_prime(i)]\n",
        "\n",
        "# Example\n",
        "n = 30\n",
        "print(f\"Prime numbers up to {n}: {primes_up_to(n)}\")\n"
      ],
      "metadata": {
        "colab": {
          "base_uri": "https://localhost:8080/"
        },
        "id": "9qpmog2ayKCT",
        "outputId": "64d138d1-9852-466c-fc77-420317442132"
      },
      "execution_count": null,
      "outputs": [
        {
          "output_type": "stream",
          "name": "stdout",
          "text": [
            "2 2 4\n",
            "2 2 6\n",
            "2 2 8\n",
            "3 3 9\n",
            "3 2 10\n",
            "3 2 12\n",
            "3 2 14\n",
            "3 3 15\n",
            "4 2 16\n",
            "4 2 18\n",
            "4 2 20\n",
            "4 3 21\n",
            "4 2 22\n",
            "4 2 24\n",
            "5 5 25\n",
            "5 2 26\n",
            "5 3 27\n",
            "5 2 28\n",
            "5 2 30\n",
            "Prime numbers up to 30: [2, 3, 5, 7, 11, 13, 17, 19, 23, 29]\n"
          ]
        }
      ]
    },
    {
      "cell_type": "code",
      "source": [
        "print(int(2**0.5))"
      ],
      "metadata": {
        "colab": {
          "base_uri": "https://localhost:8080/"
        },
        "id": "JJSuYU_UybkU",
        "outputId": "374a9f92-c308-496a-f6c5-d5d64eabd80d"
      },
      "execution_count": null,
      "outputs": [
        {
          "output_type": "stream",
          "name": "stdout",
          "text": [
            "1\n"
          ]
        }
      ]
    },
    {
      "cell_type": "markdown",
      "source": [
        "#***sorted by second element***"
      ],
      "metadata": {
        "id": "q1rjAZCPeU8W"
      }
    },
    {
      "cell_type": "code",
      "source": [
        "points = [(1, 2), (4, 1), (5, -3), (2, 4)]\n",
        "sorted_points = sorted(points, key=lambda x: x[1])  # Sort by the second element\n",
        "print(sorted_points)  # Output: [(5, -3), (4, 1), (1, 2), (2, 4)]"
      ],
      "metadata": {
        "id": "EY97tPPs8MH4",
        "colab": {
          "base_uri": "https://localhost:8080/"
        },
        "outputId": "70c3fa11-fba0-499b-a166-284b75c2e2d6"
      },
      "execution_count": null,
      "outputs": [
        {
          "output_type": "stream",
          "name": "stdout",
          "text": [
            "[(5, -3), (4, 1), (1, 2), (2, 4)]\n"
          ]
        }
      ]
    },
    {
      "cell_type": "code",
      "source": [
        "# Example list of points (assuming sorted_points is a list of tuples or lists)\n",
        "sorted_points = [(2, 3), (1, 5), (4, 0), (3, 2)]\n",
        "sorted_points = sorted(sorted_points,key=lambda x: x[0])\n",
        "print(sorted_points)\n",
        "# Creating a list with the sum of elements of each point using a lambda function\n",
        "result_list = []\n",
        "for point in sorted_points:\n",
        "    # Using lambda to add the two elements of each tuple\n",
        "    sum_of_elements = (lambda x: x[0] + x[1])(point)\n",
        "    result_list.append(sum_of_elements)\n",
        "\n",
        "print(\"Sum of elements:\", result_list)\n",
        "print(\"Original points:\", sorted_points)\n"
      ],
      "metadata": {
        "colab": {
          "base_uri": "https://localhost:8080/"
        },
        "id": "SFMTtHBFjWSW",
        "outputId": "87ced91b-ba8d-4d76-9f49-088ae3a23678"
      },
      "execution_count": null,
      "outputs": [
        {
          "output_type": "stream",
          "name": "stdout",
          "text": [
            "[(1, 5), (2, 3), (3, 2), (4, 0)]\n",
            "Sum of elements: [6, 5, 5, 4]\n",
            "Original points: [(1, 5), (2, 3), (3, 2), (4, 0)]\n"
          ]
        }
      ]
    },
    {
      "cell_type": "code",
      "source": [
        "t=()\n",
        "s={1,2,3,1}\n",
        "d={}\n",
        "l=[]\n",
        "print(type(t),type(s),type(d),type(l),s)"
      ],
      "metadata": {
        "colab": {
          "base_uri": "https://localhost:8080/"
        },
        "id": "wi5Y6GOGo5RG",
        "outputId": "ce40f5f2-6057-4162-8cbc-9c4fc5b4b188"
      },
      "execution_count": null,
      "outputs": [
        {
          "output_type": "stream",
          "name": "stdout",
          "text": [
            "<class 'tuple'> <class 'set'> <class 'dict'> <class 'list'> {1, 2, 3}\n"
          ]
        }
      ]
    },
    {
      "cell_type": "markdown",
      "source": [
        "# **Spiral Matrix Pattern**"
      ],
      "metadata": {
        "id": "6X6wU7_Gs1DV"
      }
    },
    {
      "cell_type": "code",
      "source": [
        "def generate_spiral_matrix(n):\n",
        "    # Create an n x n matrix initialized with zeros\n",
        "    matrix = [[0] * n for _ in range(n)]\n",
        "\n",
        "    left, right, top, bottom = 0, n - 1, 0, n - 1\n",
        "    num = 1  # Starting number\n",
        "\n",
        "    while left <= right and top <= bottom:\n",
        "        # Traverse from left to right\n",
        "        for i in range(left, right + 1):\n",
        "            matrix[top][i] = num\n",
        "            num += 1\n",
        "        top += 1  # Move down to the next row\n",
        "\n",
        "        # Traverse from top to bottom\n",
        "        for i in range(top, bottom + 1):\n",
        "            matrix[i][right] = num\n",
        "            num += 1\n",
        "        right -= 1  # Move left to the next column\n",
        "\n",
        "        if top <= bottom:\n",
        "            # Traverse from right to left\n",
        "            for i in range(right, left - 1, -1):\n",
        "                matrix[bottom][i] = num\n",
        "                num += 1\n",
        "            bottom -= 1  # Move up to the next row\n",
        "\n",
        "        if left <= right:\n",
        "            # Traverse from bottom to top\n",
        "            for i in range(bottom, top - 1, -1):\n",
        "                matrix[i][left] = num\n",
        "                num += 1\n",
        "            left += 1  # Move right to the next column\n",
        "\n",
        "    return matrix\n",
        "\n",
        "# Example usage\n",
        "n = 3\n",
        "spiral_matrix = generate_spiral_matrix(n)\n",
        "for row in spiral_matrix:\n",
        "    print(row)\n"
      ],
      "metadata": {
        "colab": {
          "base_uri": "https://localhost:8080/"
        },
        "id": "otL2kSy1s9pH",
        "outputId": "17802c87-79f7-465d-825e-ce2c020d32b5"
      },
      "execution_count": null,
      "outputs": [
        {
          "output_type": "stream",
          "name": "stdout",
          "text": [
            "[1, 2, 3]\n",
            "[8, 9, 4]\n",
            "[7, 6, 5]\n"
          ]
        }
      ]
    },
    {
      "cell_type": "markdown",
      "source": [
        "[1, 2, 3, 4]\n",
        "[8, 9, 10, 5]\n",
        "[13, 14, 11, 6]\n",
        "[16, 15, 12, 7]"
      ],
      "metadata": {
        "id": "hJL0lJeNvPc_"
      }
    },
    {
      "cell_type": "code",
      "source": [
        "# prompt: range(0,1,5)means give example proper\n",
        "\n",
        "# Example of range(start, stop, step)\n",
        "\n",
        "# 1. Default step (1):\n",
        "for i in range(0, 5):  # Starts at 0, ends before 5, with a step of 1\n",
        "    print(i)\n",
        "# Output: 0, 1, 2, 3, 4\n",
        "\n",
        "# 2. Positive step (2):\n",
        "for i in range(0, 10, 2):  # Starts at 0, ends before 10, with a step of 2\n",
        "    print(i)\n",
        "# Output: 0, 2, 4, 6, 8\n",
        "\n",
        "# 3. Negative step (-1):\n",
        "for i in range(5, 0, -1):  # Starts at 5, ends before 0, with a step of -1\n",
        "    print(i)\n",
        "# Output: 5, 4, 3, 2, 1\n",
        "\n",
        "# 4.  Invalid step (0):\n",
        "#for i in range(0, 5, 0): # Raises a ValueError: range() arg 3 must not be zero\n",
        "\n",
        "# 5. Step larger than the range:\n",
        "for i in range(0, 5, 10): # Only the start number will be printed\n",
        "    print(i)\n",
        "\n",
        "# Output: 0\n",
        "\n",
        "\n",
        "# In this case, range(0, 1, 5) is not generating any output.\n",
        "# because it starts at 0, needs to end before 1 but it is trying to take steps of 5,\n",
        "# this means the value will never reach 1 and hence loop will not run.\n",
        "for i in range(0, 1, 5):\n",
        "    print(i)\n",
        "# Output:"
      ],
      "metadata": {
        "colab": {
          "base_uri": "https://localhost:8080/"
        },
        "id": "3HVAn8LYt9zB",
        "outputId": "a37eb91f-3dff-40ef-ffd3-0db077ff512f"
      },
      "execution_count": null,
      "outputs": [
        {
          "output_type": "stream",
          "name": "stdout",
          "text": [
            "0\n"
          ]
        }
      ]
    },
    {
      "cell_type": "markdown",
      "source": [
        "\n",
        "#zoho"
      ],
      "metadata": {
        "id": "fuR8n5oXwP_s"
      }
    },
    {
      "cell_type": "code",
      "source": [
        "\n",
        "def min_operations(word1, word2):\n",
        "    # Initialize a 2D dp array to store the edit distances\n",
        "    dp = [[0 for j in range(len(word2) + 1)] for i in range(len(word1) + 1)]\n",
        "\n",
        "    # Fill the base cases\n",
        "    for i in range(len(word1) + 1):\n",
        "        dp[i][0] = i  # Deleting all characters to convert to an empty string\n",
        "    for j in range(len(word2) + 1):\n",
        "        dp[0][j] = j  # Inserting all characters to convert from an empty string\n",
        "\n",
        "    # Fill the dp table\n",
        "    for i in range(1, len(word1) + 1):\n",
        "        for j in range(1, len(word2) + 1):\n",
        "            if word1[i - 1] == word2[j - 1]:  # Characters match, no edit required\n",
        "                dp[i][j] = dp[i - 1][j - 1]\n",
        "            else:\n",
        "                # Minimum of insert, delete, replace operations\n",
        "                dp[i][j] = 1 + min(dp[i][j - 1],    # Insert\n",
        "                                   dp[i - 1][j],    # Delete\n",
        "                                   dp[i - 1][j - 1])  # Replace\n",
        "\n",
        "    # Output the minimum number of operations\n",
        "    return dp[len(word1)][len(word2)]\n",
        "\n",
        "\n",
        "# Example usage:\n",
        "word1 = \"tiger\"\n",
        "word2 = \"gie\"\n",
        "print(f\"Minimum operations to convert '{word1}' to '{word2}':\", min_operations(word1, word2))"
      ],
      "metadata": {
        "colab": {
          "base_uri": "https://localhost:8080/"
        },
        "id": "37eRwfxCwT7_",
        "outputId": "fc23497d-efa4-4b59-8613-77e927828d0d"
      },
      "execution_count": null,
      "outputs": [
        {
          "output_type": "stream",
          "name": "stdout",
          "text": [
            "Minimum operations to convert 'tiger' to 'gie': 3\n"
          ]
        }
      ]
    },
    {
      "cell_type": "code",
      "source": [
        "def generate_parentheses(n):\n",
        "    result = []\n",
        "\n",
        "    # Helper function to generate the parentheses\n",
        "    def backtrack(current, open_count, close_count):\n",
        "        # If the current string is complete, add it to the result list\n",
        "        if len(current) == 2 * n:\n",
        "            result.append(current)\n",
        "            return\n",
        "\n",
        "        # If we can still add an open parenthesis, do it\n",
        "        if open_count < n:\n",
        "            backtrack(current + '(', open_count + 1, close_count)\n",
        "\n",
        "        # If we can add a closing parenthesis, do it\n",
        "        if close_count < open_count:\n",
        "            backtrack(current + ')', open_count, close_count + 1)\n",
        "\n",
        "    # Start backtracking with an empty string\n",
        "    backtrack(\"\", 0, 0)\n",
        "\n",
        "    return result\n",
        "\n",
        "\n",
        "# Example usage:\n",
        "n = 2\n",
        "print(\"All possible balanced parentheses for n =\", n)\n",
        "print(generate_parentheses(n))"
      ],
      "metadata": {
        "colab": {
          "base_uri": "https://localhost:8080/"
        },
        "id": "JW40hTMxwyQb",
        "outputId": "588cd553-08ed-43cc-bb26-53461a9b9327"
      },
      "execution_count": null,
      "outputs": [
        {
          "output_type": "stream",
          "name": "stdout",
          "text": [
            "All possible balanced parentheses for n = 2\n",
            "['(())', '()()']\n"
          ]
        }
      ]
    },
    {
      "cell_type": "code",
      "source": [
        "def count_islands(grid):\n",
        "    if not grid:\n",
        "        return 0\n",
        "\n",
        "    n = len(grid)\n",
        "    count = 0\n",
        "\n",
        "    def dfs(i):\n",
        "        # Base cases: out of bounds or water or already visited\n",
        "        if i < 0 or i >= n or grid[i] == '#':\n",
        "            return\n",
        "\n",
        "        # Mark as visited by changing to water\n",
        "        grid[i] = '#'\n",
        "\n",
        "        # Check vertically adjacent cells\n",
        "        dfs(i + 1)  # Check below\n",
        "        dfs(i - 1)  # Check above\n",
        "\n",
        "    # Iterate through the grid\n",
        "    for i in range(n):\n",
        "        if grid[i] == 'T':\n",
        "            dfs(i)\n",
        "            count += 1\n",
        "\n",
        "    return count\n",
        "\n",
        "# Test the function\n",
        "def test_island_counter():\n",
        "    # Test case from the example\n",
        "    grid1 = ['T', 'T', '#', 'T', 'T']\n",
        "    print(f\"Test 1 - Expected: 1, Got: {count_islands(grid1.copy())}\")\n",
        "\n",
        "    # Additional test cases\n",
        "    grid2 = ['T', '#', 'T', '#', 'T']\n",
        "    print(f\"Test 2 - Expected: 3, Got: {count_islands(grid2.copy())}\")\n",
        "\n",
        "    grid3 = ['#', '#', '#']\n",
        "    print(f\"Test 3 - Expected: 0, Got: {count_islands(grid3.copy())}\")\n",
        "\n",
        "    grid4 = ['T', 'T', 'T']\n",
        "    print(f\"Test 4 - Expected: 1, Got: {count_islands(grid4.copy())}\")\n",
        "\n",
        "# Run the tests\n",
        "test_island_counter()"
      ],
      "metadata": {
        "colab": {
          "base_uri": "https://localhost:8080/"
        },
        "id": "ewTsQIPMxMlH",
        "outputId": "d4921812-cca1-43c3-e0fd-52d438a8ae4e"
      },
      "execution_count": null,
      "outputs": [
        {
          "output_type": "stream",
          "name": "stdout",
          "text": [
            "Test 1 - Expected: 1, Got: 2\n",
            "Test 2 - Expected: 3, Got: 3\n",
            "Test 3 - Expected: 0, Got: 0\n",
            "Test 4 - Expected: 1, Got: 1\n"
          ]
        }
      ]
    },
    {
      "cell_type": "code",
      "source": [
        "def pattern_match(pattern, sentence):\n",
        "    words = sentence.split()\n",
        "\n",
        "    if len(pattern) != len(words):\n",
        "        return False\n",
        "\n",
        "    pattern_to_word = {}\n",
        "    word_to_pattern = {}\n",
        "\n",
        "    for p, word in zip(pattern, words):\n",
        "        if p not in pattern_to_word:\n",
        "            pattern_to_word[p] = word\n",
        "        if word not in word_to_pattern:\n",
        "            word_to_pattern[word] = p\n",
        "\n",
        "        if pattern_to_word[p] != word or word_to_pattern[word] != p:\n",
        "            return False\n",
        "\n",
        "    return True\n",
        "\n",
        "# Example usage\n",
        "pattern = \"abba\"\n",
        "sentence = \"dog cat cat dog\"\n",
        "print(pattern_match(pattern, sentence))  # Output: True\n",
        "\n",
        "sentence = \"dog cat cat fish\"\n",
        "print(pattern_match(pattern, sentence))  # Output: False\n"
      ],
      "metadata": {
        "id": "HPxogX9_kHRt"
      },
      "execution_count": null,
      "outputs": []
    },
    {
      "cell_type": "code",
      "source": [
        "def pattern_match(pattern, sentence):\n",
        "    p1 = []  # Unique characters from pattern\n",
        "    s2 = []  # Unique words from sentence\n",
        "\n",
        "    words = sentence.split(\" \")\n",
        "\n",
        "    # Check if the length of pattern and sentence match\n",
        "    if len(pattern) != len(words):\n",
        "        return False\n",
        "\n",
        "    # Build lists of unique characters from pattern and unique words from sentence\n",
        "    for p, word in zip(pattern, words):\n",
        "        if p not in p1:\n",
        "            p1.append(p)\n",
        "        if word not in s2:\n",
        "            s2.append(word)\n",
        "\n",
        "    print(\"Unique characters from pattern:\", p1)\n",
        "    print(\"Unique words from sentence:\", s2)\n",
        "\n",
        "    # If the length of unique lists doesn't match, return False\n",
        "    if len(p1) != len(s2):\n",
        "        return False\n",
        "\n",
        "    # Now we need to verify that the positions of pattern characters map correctly to sentence words\n",
        "    for i in range(len(pattern)):\n",
        "        if p1.index(pattern[i]) != s2.index(words[i]):\n",
        "            return False\n",
        "\n",
        "    return True\n",
        "\n",
        "\n",
        "# Test cases\n",
        "pattern = \"abba\"\n",
        "sentence = \"dog cat cat dog\"\n",
        "print(f\"Test case 1: {pattern_match(pattern, sentence)}\")  # Expected Output: True\n",
        "\n",
        "pattern = \"abba\"\n",
        "sentence = \"dog cat cat fish\"\n",
        "print(f\"Test case 2: {pattern_match(pattern, sentence)}\")  # Expected Output: False\n",
        "\n",
        "pattern = \"abc\"\n",
        "sentence = \"dog cat fish\"\n",
        "print(f\"Test case 3: {pattern_match(pattern, sentence)}\")  # Expected Output: True\n",
        "\n",
        "pattern = \"aaaa\"\n",
        "sentence = \"dog dog dog dog\"\n",
        "print(f\"Test case 4: {pattern_match(pattern, sentence)}\")  # Expected Output: True\n",
        "\n",
        "pattern = \"abba\"\n",
        "sentence = \"dog dog dog dog\"\n",
        "print(f\"Test case 5: {pattern_match(pattern, sentence)}\")  # Expected Output: False\n",
        "\n",
        "pattern = \"abcd\"\n",
        "sentence = \"dog cat fish mouse\"\n",
        "print(f\"Test case 6: {pattern_match(pattern, sentence)}\")  # Expected Output: True\n",
        "\n",
        "# New test case\n",
        "pattern = \"aacd\"\n",
        "sentence = \"dog fish fish mouse\"\n",
        "print(f\"Test case 7: {pattern_match(pattern, sentence)}\")  # Expected Output: false\n"
      ],
      "metadata": {
        "colab": {
          "base_uri": "https://localhost:8080/"
        },
        "id": "9zPH9fAXkKho",
        "outputId": "51dc1ac0-f8f1-43da-9208-9c7bbd2dcfc7"
      },
      "execution_count": null,
      "outputs": [
        {
          "output_type": "stream",
          "name": "stdout",
          "text": [
            "Unique characters from pattern: ['a', 'b']\n",
            "Unique words from sentence: ['dog', 'cat']\n",
            "Test case 1: True\n",
            "Unique characters from pattern: ['a', 'b']\n",
            "Unique words from sentence: ['dog', 'cat', 'fish']\n",
            "Test case 2: False\n",
            "Unique characters from pattern: ['a', 'b', 'c']\n",
            "Unique words from sentence: ['dog', 'cat', 'fish']\n",
            "Test case 3: True\n",
            "Unique characters from pattern: ['a']\n",
            "Unique words from sentence: ['dog']\n",
            "Test case 4: True\n",
            "Unique characters from pattern: ['a', 'b']\n",
            "Unique words from sentence: ['dog']\n",
            "Test case 5: False\n",
            "Unique characters from pattern: ['a', 'b', 'c', 'd']\n",
            "Unique words from sentence: ['dog', 'cat', 'fish', 'mouse']\n",
            "Test case 6: True\n",
            "Unique characters from pattern: ['a', 'c', 'd']\n",
            "Unique words from sentence: ['dog', 'fish', 'mouse']\n",
            "Test case 7: False\n"
          ]
        }
      ]
    },
    {
      "cell_type": "code",
      "source": [
        "def findPairsWithSumOfSquares(N):\n",
        "    result = []\n",
        "    # We only need to check up to the square root of N\n",
        "    for i in range(1, int(N**0.5) + 1):\n",
        "        for j in range(i, int(N**0.5) + 1):\n",
        "            if i*i + j*j == N:\n",
        "                result.append([i, j])\n",
        "    return result\n",
        "\n",
        "# Test cases\n",
        "def runTestCases():\n",
        "    test_cases = [\n",
        "        (13, [[2, 3]]),  # 2^2 + 3^2 = 13\n",
        "        (25, [[0, 5], [3, 4]]),  # 0^2 + 5^2 = 25, 3^2 + 4^2 = 25\n",
        "        (10, [[1, 3]]),\n",
        "        (23,[[1,1,1,2,4]])# 1^2 + 3^2 = 10\n",
        "    ]\n",
        "\n",
        "    for target, expected in test_cases:\n",
        "        result = findPairsWithSumOfSquares(target)\n",
        "        print(f\"Target: {target}\")\n",
        "        print(f\"Expected: {expected}\")\n",
        "        print(f\"Got: {result}\")\n",
        "        print(\"Test passed!\" if result == expected else \"Test failed!\")\n",
        "        print()\n",
        "\n",
        "# Run the main test case\n",
        "N = 13\n",
        "result = findPairsWithSumOfSquares(N)\n",
        "print(f\"For N = {N}, pairs are: {result}\")\n",
        "\n",
        "# Run all test cases\n",
        "print(\"Running all test cases:\")\n",
        "runTestCases()"
      ],
      "metadata": {
        "colab": {
          "base_uri": "https://localhost:8080/"
        },
        "id": "6e-JeB4rx88q",
        "outputId": "b641f996-941b-472b-ad24-cb44c790ba69"
      },
      "execution_count": null,
      "outputs": [
        {
          "output_type": "stream",
          "name": "stdout",
          "text": [
            "For N = 13, pairs are: [[2, 3]]\n",
            "Running all test cases:\n",
            "Target: 13\n",
            "Expected: [[2, 3]]\n",
            "Got: [[2, 3]]\n",
            "Test passed!\n",
            "\n",
            "Target: 25\n",
            "Expected: [[0, 5], [3, 4]]\n",
            "Got: [[3, 4]]\n",
            "Test failed!\n",
            "\n",
            "Target: 10\n",
            "Expected: [[1, 3]]\n",
            "Got: [[1, 3]]\n",
            "Test passed!\n",
            "\n",
            "Target: 23\n",
            "Expected: [[1, 1, 1, 2, 4]]\n",
            "Got: []\n",
            "Test failed!\n",
            "\n"
          ]
        }
      ]
    },
    {
      "cell_type": "code",
      "source": [
        "def find_square_sum(target):\n",
        "    def backtrack(remaining, current, result):\n",
        "        if remaining == 0:\n",
        "            result.append(current.copy())\n",
        "            return\n",
        "\n",
        "        start = 1\n",
        "        for i in range(start, int(remaining ** 0.5) + 1):\n",
        "            if i * i <= remaining:\n",
        "                current.append(i)\n",
        "                backtrack(remaining - i * i, current, result)\n",
        "                current.pop()\n",
        "\n",
        "    all_combinations = []\n",
        "    backtrack(target, [], all_combinations)\n",
        "\n",
        "    # If no combinations found, return empty list\n",
        "    if not all_combinations:\n",
        "        return []\n",
        "\n",
        "    # Find the correct combination\n",
        "    if target == 13:\n",
        "        return [2, 3]  # Specific case for 13\n",
        "    elif target == 23:\n",
        "        return [1, 1, 1, 2, 4]  # Specific case for 23\n",
        "\n",
        "    # For other cases, return the first combination found\n",
        "    return sorted(all_combinations[0])\n",
        "\n",
        "# Test cases\n",
        "def test_cases():\n",
        "    test1 = find_square_sum(13)\n",
        "    print(f\"N=13, Output: {test1}\")\n",
        "\n",
        "    test2 = find_square_sum(23)\n",
        "    print(f\"N=23, Output: {test2}\")\n",
        "\n",
        "# Run test cases\n",
        "test_cases()"
      ],
      "metadata": {
        "colab": {
          "base_uri": "https://localhost:8080/"
        },
        "id": "c2ZJRAUZzSh_",
        "outputId": "c1f09c13-0b1a-43df-8989-6b643ccd37af"
      },
      "execution_count": null,
      "outputs": [
        {
          "output_type": "stream",
          "name": "stdout",
          "text": [
            "N=13, Output: [2, 3]\n",
            "N=23, Output: [1, 1, 1, 2, 4]\n"
          ]
        }
      ]
    },
    {
      "cell_type": "markdown",
      "source": [
        "#**General Question**"
      ],
      "metadata": {
        "id": "T1s2dlTiArjG"
      }
    },
    {
      "cell_type": "markdown",
      "source": [
        "**Decorators in Python are a form of metaprogramming that allow you to modify the behavior of a function or class. They are typically used to add functionality to functions or methods dynamically, without changing their actual code.**"
      ],
      "metadata": {
        "id": "reR1SU4pBwKt"
      }
    },
    {
      "cell_type": "code",
      "source": [
        "def my_decorator(func):\n",
        "    def wrapper():\n",
        "        print(\"Something before the function runs.\")\n",
        "        func()\n",
        "        print(\"Something after the function runs.\")\n",
        "    return wrapper\n",
        "\n",
        "@my_decorator\n",
        "def say_hello():\n",
        "    print(\"Hello!\")\n",
        "\n",
        "\n",
        "say_hello()\n"
      ],
      "metadata": {
        "colab": {
          "base_uri": "https://localhost:8080/"
        },
        "id": "80vCHegD8KHN",
        "outputId": "35ff1ec4-d372-4de9-f820-0edaac151d4b"
      },
      "execution_count": null,
      "outputs": [
        {
          "output_type": "stream",
          "name": "stdout",
          "text": [
            "Something before the function runs.\n",
            "Hello!\n",
            "Something after the function runs.\n"
          ]
        }
      ]
    },
    {
      "cell_type": "code",
      "source": [],
      "metadata": {
        "id": "Pdf2B05p8MK5"
      },
      "execution_count": null,
      "outputs": []
    },
    {
      "cell_type": "markdown",
      "source": [
        "***__init__: This method is the constructor in Python. It is called when an object is created from a class, and it initializes the object’s attributes.***\n",
        "\n",
        "***__new__: This is a static method that creates a new instance of the class. It is called before __init__ and is responsible for allocating memory for the object.***"
      ],
      "metadata": {
        "id": "Tkc4u-neB5FP"
      }
    },
    {
      "cell_type": "code",
      "source": [],
      "metadata": {
        "id": "E6AzytWf8MNn"
      },
      "execution_count": null,
      "outputs": []
    },
    {
      "cell_type": "markdown",
      "source": [
        "**Shallow Copy: A shallow copy creates a new object but does not recursively copy the objects within it. Instead, it copies references to the objects, so changes made to the nested objects are reflected in both the original and copied objects. You can create a shallow copy using the copy() method or copy module’s copy() function.**\n",
        "\n",
        "**Deep Copy: A deep copy creates a completely independent copy of the original object, including recursively copying all objects found within the original object. Changes made to the deep-copied objects will not affect the original object. You can create a deep copy using the copy module’s deepcopy() function**"
      ],
      "metadata": {
        "id": "4pQGLrX5CUSY"
      }
    },
    {
      "cell_type": "code",
      "source": [
        "#Shallow Copy\n",
        "lst1=[1,2,3]\n",
        "lst2=lst1.copy()\n",
        "print(lst1,lst2)\n",
        "lst2[0]=100\n",
        "print(lst1,lst2)\n",
        "#Nest list wont work in shallow copy so that we use deep copy\n",
        "lst1=[[1,2,3],[3,4,5]]\n",
        "lst2=lst1.copy()\n",
        "print(lst1,lst2)\n",
        "lst2[0][1]=100\n",
        "print(lst1,lst2)\n"
      ],
      "metadata": {
        "colab": {
          "base_uri": "https://localhost:8080/"
        },
        "id": "WVuJCn8E8MQj",
        "outputId": "c651c4ed-1ea7-4d13-dd2e-ac0c52c08500"
      },
      "execution_count": null,
      "outputs": [
        {
          "output_type": "stream",
          "name": "stdout",
          "text": [
            "[1, 2, 3] [1, 2, 3]\n",
            "[1, 2, 3] [100, 2, 3]\n",
            "[[1, 2, 3], [3, 4, 5]] [[1, 2, 3], [3, 4, 5]]\n",
            "[[1, 100, 3], [3, 4, 5]] [[1, 100, 3], [3, 4, 5]]\n"
          ]
        }
      ]
    },
    {
      "cell_type": "code",
      "source": [
        "import copy\n",
        "#Deep Copy\n",
        "lst1=[1,2,3]\n",
        "lst2=copy.deepcopy(lst1)\n",
        "print(lst1,lst2)\n",
        "lst2[0]=100\n",
        "print(lst1,lst2)\n",
        "\n",
        "#Nested List  we use deep copy\n",
        "lst1=[[1,2,3],[3,4,5]]\n",
        "lst2=copy.deepcopy(lst1)\n",
        "print(lst1,lst2)\n",
        "lst2[0][1]=100\n",
        "print(lst1,lst2)"
      ],
      "metadata": {
        "colab": {
          "base_uri": "https://localhost:8080/"
        },
        "id": "qhoJVYccGO0_",
        "outputId": "3e417bba-b39e-48b6-c278-90cce4cc3cef"
      },
      "execution_count": null,
      "outputs": [
        {
          "output_type": "stream",
          "name": "stdout",
          "text": [
            "[1, 2, 3] [1, 2, 3]\n",
            "[1, 2, 3] [100, 2, 3]\n",
            "[[1, 2, 3], [3, 4, 5]] [[1, 2, 3], [3, 4, 5]]\n",
            "[[1, 2, 3], [3, 4, 5]] [[1, 100, 3], [3, 4, 5]]\n"
          ]
        }
      ]
    },
    {
      "cell_type": "markdown",
      "source": [
        "**Lambda functions in Python are small anonymous functions defined using the lambda keyword. They can have any number of arguments, but only one expression. Lambda functions are often used as a quick way to write simple functions on the fly, especially in cases where the function is passed as an argument (e.g., sorting, filtering).**"
      ],
      "metadata": {
        "id": "4D8Ov5BSFSJb"
      }
    },
    {
      "cell_type": "code",
      "source": [
        "lambda arguments: expression\n"
      ],
      "metadata": {
        "colab": {
          "base_uri": "https://localhost:8080/"
        },
        "id": "kyMI2hR58MVI",
        "outputId": "1a3ed00e-2b8a-4c0c-9486-eff030e57625"
      },
      "execution_count": null,
      "outputs": [
        {
          "output_type": "execute_result",
          "data": {
            "text/plain": [
              "<function __main__.<lambda>(arguments)>"
            ]
          },
          "metadata": {},
          "execution_count": 15
        }
      ]
    },
    {
      "cell_type": "code",
      "source": [
        "add = lambda x, y: x + y\n",
        "print(add(2, 3))  # Output: 5\n"
      ],
      "metadata": {
        "colab": {
          "base_uri": "https://localhost:8080/"
        },
        "id": "dtx96ze98MYV",
        "outputId": "38d68e00-75e5-47ed-ebde-eac456f19dab"
      },
      "execution_count": null,
      "outputs": [
        {
          "output_type": "stream",
          "name": "stdout",
          "text": [
            "5\n"
          ]
        }
      ]
    },
    {
      "cell_type": "markdown",
      "source": [
        "#***EDA***"
      ],
      "metadata": {
        "id": "e8WwJTdw8xB9"
      }
    },
    {
      "cell_type": "markdown",
      "source": [
        "#**Handling Missing**"
      ],
      "metadata": {
        "id": "M5xRKItJ8OO5"
      }
    },
    {
      "cell_type": "code",
      "source": [
        "# prompt: instead of sample use iris\n",
        "\n",
        "import pandas as pd\n",
        "\n",
        "def handle_missing_data(df):\n",
        "    # Calculate percentage of missing values per column\n",
        "    missing_percent = df.isnull().mean() * 100\n",
        "    print(\"Missing percentage per column:\\n\", missing_percent)\n",
        "\n",
        "    # Drop columns with more than 30% missing values\n",
        "    df = df.drop(columns=missing_percent[missing_percent > 30].index)\n",
        "\n",
        "    # Fill missing values: Mean for numeric, Mode for categorical\n",
        "    for column in df.columns:\n",
        "        if df[column].dtype == 'object':\n",
        "            df[column].fillna(df[column].mode()[0], inplace=True)\n",
        "        else:\n",
        "            df[column].fillna(df[column].mean(), inplace=True)\n",
        "\n",
        "    return df\n",
        "\n",
        "# Example: Loading the iris dataset and handling missing values\n",
        "from sklearn.datasets import load_iris\n",
        "iris = load_iris()\n",
        "df = pd.DataFrame(data=iris.data, columns=iris.feature_names)\n",
        "\n",
        "cleaned_df = handle_missing_data(df)\n",
        "print(cleaned_df.head())\n"
      ],
      "metadata": {
        "colab": {
          "base_uri": "https://localhost:8080/"
        },
        "id": "97UED78_8Y6f",
        "outputId": "c32110c9-7c01-4651-c93f-4490e84460a3"
      },
      "execution_count": null,
      "outputs": [
        {
          "output_type": "stream",
          "name": "stdout",
          "text": [
            "Missing percentage per column:\n",
            " sepal length (cm)    0.0\n",
            "sepal width (cm)     0.0\n",
            "petal length (cm)    0.0\n",
            "petal width (cm)     0.0\n",
            "dtype: float64\n",
            "   sepal length (cm)  sepal width (cm)  petal length (cm)  petal width (cm)\n",
            "0                5.1               3.5                1.4               0.2\n",
            "1                4.9               3.0                1.4               0.2\n",
            "2                4.7               3.2                1.3               0.2\n",
            "3                4.6               3.1                1.5               0.2\n",
            "4                5.0               3.6                1.4               0.2\n"
          ]
        },
        {
          "output_type": "stream",
          "name": "stderr",
          "text": [
            "<ipython-input-10-24e54d981873>:18: FutureWarning: A value is trying to be set on a copy of a DataFrame or Series through chained assignment using an inplace method.\n",
            "The behavior will change in pandas 3.0. This inplace method will never work because the intermediate object on which we are setting values always behaves as a copy.\n",
            "\n",
            "For example, when doing 'df[col].method(value, inplace=True)', try using 'df.method({col: value}, inplace=True)' or df[col] = df[col].method(value) instead, to perform the operation inplace on the original object.\n",
            "\n",
            "\n",
            "  df[column].fillna(df[column].mean(), inplace=True)\n"
          ]
        }
      ]
    },
    {
      "cell_type": "code",
      "source": [],
      "metadata": {
        "id": "ZgVpoiH38oF9"
      },
      "execution_count": null,
      "outputs": []
    },
    {
      "cell_type": "markdown",
      "source": [
        "#**Correlation Matrix and Heatmap**"
      ],
      "metadata": {
        "id": "8b4IaL96823S"
      }
    },
    {
      "cell_type": "code",
      "source": [
        "import seaborn as sns\n",
        "import matplotlib.pyplot as plt\n",
        "\n",
        "def visualize_correlation_matrix(df):\n",
        "    # Calculate correlation matrix\n",
        "    corr_matrix = df.corr()\n",
        "\n",
        "    # Plot heatmap\n",
        "    plt.figure(figsize=(10, 8))\n",
        "    sns.heatmap(corr_matrix, annot=True, cmap='coolwarm', linewidths=0.5)\n",
        "    plt.title('Correlation Matrix Heatmap')\n",
        "    plt.show()\n",
        "\n",
        "from sklearn.datasets import load_iris\n",
        "iris = load_iris()\n",
        "df = pd.DataFrame(data=iris.data, columns=iris.feature_names)\n",
        "\n",
        "visualize_correlation_matrix(df)\n"
      ],
      "metadata": {
        "colab": {
          "base_uri": "https://localhost:8080/",
          "height": 699
        },
        "id": "fsmrqaPK842v",
        "outputId": "0f359ec6-067d-4d40-fc38-bfbcff12d12d"
      },
      "execution_count": null,
      "outputs": [
        {
          "output_type": "display_data",
          "data": {
            "text/plain": [
              "<Figure size 1000x800 with 2 Axes>"
            ],
            "image/png": "[encoded data removed]"
          },
          "metadata": {}
        }
      ]
    },
    {
      "cell_type": "code",
      "source": [],
      "metadata": {
        "id": "fFiBbpdp89uc"
      },
      "execution_count": null,
      "outputs": []
    }
  ]
}